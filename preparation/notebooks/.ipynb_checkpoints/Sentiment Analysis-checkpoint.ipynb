{
 "metadata": {
  "name": "",
  "signature": "sha256:f90c53a3176810f796a9248a40f26d9ca1e5b1133458bdf6a9b909ca3133f428"
 },
 "nbformat": 3,
 "nbformat_minor": 0,
 "worksheets": []
}